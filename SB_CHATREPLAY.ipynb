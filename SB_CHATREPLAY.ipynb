{
 "cells": [
  {
   "cell_type": "code",
   "execution_count": 1,
   "metadata": {},
   "outputs": [
    {
     "name": "stderr",
     "output_type": "stream",
     "text": [
      "Using TensorFlow backend.\n",
      "WARNING (theano.configdefaults): g++ not available, if using conda: `conda install m2w64-toolchain`\n",
      "C:\\Users\\mange\\Anaconda3\\lib\\site-packages\\theano\\configdefaults.py:560: UserWarning: DeprecationWarning: there is no c++ compiler.This is deprecated and with Theano 0.11 a c++ compiler will be mandatory\n",
      "  warnings.warn(\"DeprecationWarning: there is no c++ compiler.\"\n",
      "WARNING (theano.configdefaults): g++ not detected ! Theano will be unable to execute optimized C-implementations (for both CPU and GPU) and will default to Python implementations. Performance will be severely degraded. To remove this warning, set Theano flags cxx to an empty string.\n",
      "WARNING (theano.tensor.blas): Using NumPy C-API based implementation for BLAS functions.\n"
     ]
    }
   ],
   "source": [
    "import os\n",
    "from scipy import spatial\n",
    "import numpy as np\n",
    "import gensim\n",
    "import nltk\n",
    "from keras.models import load_model\n",
    "\n",
    "\n",
    "import theano\n",
    "theano.config.optimizer=\"None\"\n",
    "\n",
    "\n"
   ]
  },
  {
   "cell_type": "code",
   "execution_count": null,
   "metadata": {},
   "outputs": [
    {
     "name": "stdout",
     "output_type": "stream",
     "text": [
      "WARNING:tensorflow:From C:\\Users\\mange\\Anaconda3\\lib\\site-packages\\keras\\backend\\tensorflow_backend.py:74: The name tf.get_default_graph is deprecated. Please use tf.compat.v1.get_default_graph instead.\n",
      "\n",
      "WARNING:tensorflow:From C:\\Users\\mange\\Anaconda3\\lib\\site-packages\\keras\\backend\\tensorflow_backend.py:517: The name tf.placeholder is deprecated. Please use tf.compat.v1.placeholder instead.\n",
      "\n",
      "WARNING:tensorflow:From C:\\Users\\mange\\Anaconda3\\lib\\site-packages\\keras\\backend\\tensorflow_backend.py:4185: The name tf.truncated_normal is deprecated. Please use tf.random.truncated_normal instead.\n",
      "\n",
      "WARNING:tensorflow:From C:\\Users\\mange\\Anaconda3\\lib\\site-packages\\keras\\backend\\tensorflow_backend.py:174: The name tf.get_default_session is deprecated. Please use tf.compat.v1.get_default_session instead.\n",
      "\n",
      "WARNING:tensorflow:From C:\\Users\\mange\\Anaconda3\\lib\\site-packages\\keras\\backend\\tensorflow_backend.py:181: The name tf.ConfigProto is deprecated. Please use tf.compat.v1.ConfigProto instead.\n",
      "\n",
      "WARNING:tensorflow:From C:\\Users\\mange\\Anaconda3\\lib\\site-packages\\keras\\optimizers.py:790: The name tf.train.Optimizer is deprecated. Please use tf.compat.v1.train.Optimizer instead.\n",
      "\n",
      "WARNING:tensorflow:From C:\\Users\\mange\\Anaconda3\\lib\\site-packages\\tensorflow\\python\\ops\\math_grad.py:1250: add_dispatch_support.<locals>.wrapper (from tensorflow.python.ops.array_ops) is deprecated and will be removed in a future version.\n",
      "Instructions for updating:\n",
      "Use tf.where in 2.0, which has the same broadcast rule as np.where\n",
      "Enter the message:hello\n",
      "bye constitutional_amendments Cindy_Crawford Cindy_Crawford Cindy_Crawford Cindy_Crawford Cindy_Crawford Cindy_Crawford Cindy_Crawford Cindy_Crawford Cindy_Crawford Cindy_Crawford Cindy_Crawford Cindy_Crawford Cindy_Crawford\n",
      "Enter the message:hai\n",
      "Oh something Or Cindy_Crawford Cindy_Crawford Cindy_Crawford Cindy_Crawford Cindy_Crawford Cindy_Crawford Cindy_Crawford Cindy_Crawford Cindy_Crawford Cindy_Crawford Cindy_Crawford Cindy_Crawford\n",
      "Enter the message:good to see you\n",
      "Oh is great friend Cindy_Crawford Cindy_Crawford Cindy_Crawford Cindy_Crawford Cindy_Crawford Cindy_Crawford Cindy_Crawford Cindy_Crawford Cindy_Crawford Cindy_Crawford Cindy_Crawford\n",
      "Enter the message:i am not a friend of you\n",
      "what 'm you question Cindy_Crawford Cindy_Crawford Cindy_Crawford Cindy_Crawford Cindy_Crawford Cindy_Crawford Cindy_Crawford Cindy_Crawford Cindy_Crawford Cindy_Crawford Cindy_Crawford\n",
      "Enter the message:corona\n",
      "is your friend Cindy_Crawford Cindy_Crawford Cindy_Crawford Cindy_Crawford Cindy_Crawford Cindy_Crawford Cindy_Crawford Cindy_Crawford Cindy_Crawford Cindy_Crawford Cindy_Crawford Cindy_Crawford\n",
      "Enter the message:who is trump\n",
      "not is the only live the temptation guess constitutional_amendments Cindy_Crawford Cindy_Crawford Cindy_Crawford Cindy_Crawford Cindy_Crawford Cindy_Crawford\n",
      "Enter the message:who are you\n",
      "not who is but form following the function what constitutional_amendments Cindy_Crawford Cindy_Crawford Cindy_Crawford Cindy_Crawford Cindy_Crawford\n",
      "Enter the message:what is AI\n",
      "what is know all the the do Cindy_Crawford Cindy_Crawford Cindy_Crawford Cindy_Crawford Cindy_Crawford Cindy_Crawford Cindy_Crawford Cindy_Crawford\n",
      "Enter the message:good to see you\n",
      "Oh is great friend Cindy_Crawford Cindy_Crawford Cindy_Crawford Cindy_Crawford Cindy_Crawford Cindy_Crawford Cindy_Crawford Cindy_Crawford Cindy_Crawford Cindy_Crawford Cindy_Crawford\n",
      "Enter the message:who are you\n",
      "not who is but form following the function what constitutional_amendments Cindy_Crawford Cindy_Crawford Cindy_Crawford Cindy_Crawford Cindy_Crawford\n",
      "Enter the message:hai\n",
      "Oh something Or Cindy_Crawford Cindy_Crawford Cindy_Crawford Cindy_Crawford Cindy_Crawford Cindy_Crawford Cindy_Crawford Cindy_Crawford Cindy_Crawford Cindy_Crawford Cindy_Crawford Cindy_Crawford\n",
      "Enter the message:hello\n",
      "bye constitutional_amendments Cindy_Crawford Cindy_Crawford Cindy_Crawford Cindy_Crawford Cindy_Crawford Cindy_Crawford Cindy_Crawford Cindy_Crawford Cindy_Crawford Cindy_Crawford Cindy_Crawford Cindy_Crawford Cindy_Crawford\n",
      "Enter the message:bye\n",
      "bye constitutional_amendments Cindy_Crawford Cindy_Crawford Cindy_Crawford Cindy_Crawford Cindy_Crawford Cindy_Crawford Cindy_Crawford Cindy_Crawford Cindy_Crawford Cindy_Crawford Cindy_Crawford Cindy_Crawford Cindy_Crawford\n"
     ]
    }
   ],
   "source": [
    "model=load_model('SB1000.h5')\n",
    "mod = gensim.models.KeyedVectors.load_word2vec_format(r'C:\\Users\\mange\\Desktop\\Small_chatbot\\GoogleNews-vectors-negative300.bin', binary=True,limit=100000)\n",
    "while(True):\n",
    "    x=input(\"Enter the message:\");\n",
    "    sentend=np.ones((300,),dtype=np.float32) \n",
    "\n",
    "    sent=nltk.word_tokenize(x.lower())\n",
    "    sentvec = [mod[w] for w in sent if w in mod.vocab]\n",
    "\n",
    "    sentvec[14:]=[]\n",
    "    sentvec.append(sentend)\n",
    "    if len(sentvec)<15:\n",
    "        for i in range(15-len(sentvec)):\n",
    "            sentvec.append(sentend) \n",
    "    sentvec=np.array([sentvec])\n",
    "    \n",
    "    predictions = model.predict(sentvec)\n",
    "    outputlist=[mod.most_similar([predictions[0][i]])[0][0] for i in range(15)]\n",
    "    output=' '.join(outputlist)\n",
    "    print (output)"
   ]
  },
  {
   "cell_type": "code",
   "execution_count": null,
   "metadata": {},
   "outputs": [],
   "source": []
  },
  {
   "cell_type": "code",
   "execution_count": null,
   "metadata": {},
   "outputs": [],
   "source": []
  }
 ],
 "metadata": {
  "kernelspec": {
   "display_name": "Python 3",
   "language": "python",
   "name": "python3"
  },
  "language_info": {
   "codemirror_mode": {
    "name": "ipython",
    "version": 3
   },
   "file_extension": ".py",
   "mimetype": "text/x-python",
   "name": "python",
   "nbconvert_exporter": "python",
   "pygments_lexer": "ipython3",
   "version": "3.7.4"
  }
 },
 "nbformat": 4,
 "nbformat_minor": 2
}
